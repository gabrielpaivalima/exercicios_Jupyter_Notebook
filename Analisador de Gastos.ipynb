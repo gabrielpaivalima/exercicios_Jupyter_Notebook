{
 "cells": [
  {
   "cell_type": "code",
   "execution_count": 1,
   "id": "297767ba-0e7b-4e28-b471-52a5be08d51c",
   "metadata": {},
   "outputs": [],
   "source": [
    "import pandas as pd\n",
    "from pathlib import Path"
   ]
  },
  {
   "cell_type": "markdown",
   "id": "af6b8ee5-fb5d-4a9d-b4a0-c921cd6d2be4",
   "metadata": {},
   "source": [
    "# Base de Dados a ser Analisada:"
   ]
  },
  {
   "cell_type": "code",
   "execution_count": 2,
   "id": "f2f8e8a9-420b-4363-8f16-574e8eb62ef6",
   "metadata": {},
   "outputs": [
    {
     "data": {
      "text/html": [
       "<div>\n",
       "<style scoped>\n",
       "    .dataframe tbody tr th:only-of-type {\n",
       "        vertical-align: middle;\n",
       "    }\n",
       "\n",
       "    .dataframe tbody tr th {\n",
       "        vertical-align: top;\n",
       "    }\n",
       "\n",
       "    .dataframe thead th {\n",
       "        text-align: right;\n",
       "    }\n",
       "</style>\n",
       "<table border=\"1\" class=\"dataframe\">\n",
       "  <thead>\n",
       "    <tr style=\"text-align: right;\">\n",
       "      <th></th>\n",
       "      <th>Data</th>\n",
       "      <th>Tipo</th>\n",
       "      <th>Meio de Pagamento</th>\n",
       "      <th>Instituição Bancária</th>\n",
       "      <th>Centro de Custo</th>\n",
       "      <th>Categoria</th>\n",
       "      <th>Descrição</th>\n",
       "      <th>Valor</th>\n",
       "    </tr>\n",
       "  </thead>\n",
       "  <tbody>\n",
       "    <tr>\n",
       "      <th>0</th>\n",
       "      <td>01/01/2023</td>\n",
       "      <td>Receita</td>\n",
       "      <td>Conta Corrente</td>\n",
       "      <td>Banco do Brasil</td>\n",
       "      <td>João</td>\n",
       "      <td>Salário</td>\n",
       "      <td>Entrada de Salário do Mês</td>\n",
       "      <td>4500.0</td>\n",
       "    </tr>\n",
       "    <tr>\n",
       "      <th>1</th>\n",
       "      <td>01/02/2023</td>\n",
       "      <td>Receita</td>\n",
       "      <td>Conta Corrente</td>\n",
       "      <td>Banco do Brasil</td>\n",
       "      <td>João</td>\n",
       "      <td>Salário</td>\n",
       "      <td>Entrada de Salário do Mês</td>\n",
       "      <td>4500.0</td>\n",
       "    </tr>\n",
       "    <tr>\n",
       "      <th>2</th>\n",
       "      <td>01/03/2023</td>\n",
       "      <td>Receita</td>\n",
       "      <td>Conta Corrente</td>\n",
       "      <td>Banco do Brasil</td>\n",
       "      <td>João</td>\n",
       "      <td>Salário</td>\n",
       "      <td>Entrada de Salário do Mês</td>\n",
       "      <td>4500.0</td>\n",
       "    </tr>\n",
       "    <tr>\n",
       "      <th>3</th>\n",
       "      <td>01/04/2023</td>\n",
       "      <td>Receita</td>\n",
       "      <td>Conta Corrente</td>\n",
       "      <td>Banco do Brasil</td>\n",
       "      <td>João</td>\n",
       "      <td>Salário</td>\n",
       "      <td>Entrada de Salário do Mês</td>\n",
       "      <td>4500.0</td>\n",
       "    </tr>\n",
       "    <tr>\n",
       "      <th>4</th>\n",
       "      <td>01/05/2023</td>\n",
       "      <td>Receita</td>\n",
       "      <td>Conta Corrente</td>\n",
       "      <td>Banco do Brasil</td>\n",
       "      <td>João</td>\n",
       "      <td>Salário</td>\n",
       "      <td>Entrada de Salário do Mês</td>\n",
       "      <td>4500.0</td>\n",
       "    </tr>\n",
       "  </tbody>\n",
       "</table>\n",
       "</div>"
      ],
      "text/plain": [
       "         Data     Tipo Meio de Pagamento Instituição Bancária Centro de Custo  \\\n",
       "0  01/01/2023  Receita    Conta Corrente      Banco do Brasil            João   \n",
       "1  01/02/2023  Receita    Conta Corrente      Banco do Brasil            João   \n",
       "2  01/03/2023  Receita    Conta Corrente      Banco do Brasil            João   \n",
       "3  01/04/2023  Receita    Conta Corrente      Banco do Brasil            João   \n",
       "4  01/05/2023  Receita    Conta Corrente      Banco do Brasil            João   \n",
       "\n",
       "  Categoria                  Descrição   Valor  \n",
       "0   Salário  Entrada de Salário do Mês  4500.0  \n",
       "1   Salário  Entrada de Salário do Mês  4500.0  \n",
       "2   Salário  Entrada de Salário do Mês  4500.0  \n",
       "3   Salário  Entrada de Salário do Mês  4500.0  \n",
       "4   Salário  Entrada de Salário do Mês  4500.0  "
      ]
     },
     "execution_count": 2,
     "metadata": {},
     "output_type": "execute_result"
    }
   ],
   "source": [
    "arquivo_excel = Path.cwd() / \"Base_de_Dados.csv\"\n",
    "\n",
    "base_dados = pd.read_csv(arquivo_excel, sep=\";\", decimal=\",\", thousands=\".\")\n",
    "base_dados.head(5)"
   ]
  },
  {
   "cell_type": "markdown",
   "id": "502e2ba2-3faa-40f9-b3ae-c4e1389e67ec",
   "metadata": {},
   "source": [
    "### Qual foi o gasto do João no mês de maio do ano de 2023?"
   ]
  },
  {
   "cell_type": "code",
   "execution_count": 3,
   "id": "9ecedcfb-ffa0-44ef-af39-f3ede36ffc5d",
   "metadata": {
    "scrolled": true
   },
   "outputs": [
    {
     "data": {
      "text/plain": [
       "'R$ 3087.00'"
      ]
     },
     "execution_count": 3,
     "metadata": {},
     "output_type": "execute_result"
    }
   ],
   "source": [
    "# Converti a coluna data para o formato data, assim posso trabalhar com ele\n",
    "base_dados['Data'] = pd.to_datetime(base_dados['Data'], format='%d/%m/%Y')\n",
    "\n",
    "# Criação das colunas mês e ano\n",
    "base_dados['Mês'] = base_dados['Data'].dt.month\n",
    "base_dados['Ano'] = base_dados['Data'].dt.year\n",
    "\n",
    "# Aqui é o filtro para pegar o que eu quero\n",
    "tabela_filtrada = base_dados[\n",
    "    (base_dados[\"Mês\"] == 5) & \n",
    "    (base_dados[\"Ano\"] == 2023) &\n",
    "    (base_dados[\"Centro de Custo\"] == \"João\") &\n",
    "    (base_dados[\"Tipo\"] == \"Despesa\")]\n",
    "\n",
    "#Aqui é feita a soma com os filtros formatado em reais (transformar em str e mudar o ponto para vírgula e vice versa)\n",
    "f'R$ {tabela_filtrada[\"Valor\"].sum():.2f}'"
   ]
  },
  {
   "cell_type": "markdown",
   "id": "29f0aa6b-c790-4391-bd8d-5c96e8a2d5b0",
   "metadata": {},
   "source": [
    "### Qual o gasto por categoria no mês de fevereiro de 2023 do João?"
   ]
  },
  {
   "cell_type": "code",
   "execution_count": 4,
   "id": "eb3b7acc-4c79-4fef-bd6f-69eb0792cb77",
   "metadata": {},
   "outputs": [
    {
     "data": {
      "text/html": [
       "<div>\n",
       "<style scoped>\n",
       "    .dataframe tbody tr th:only-of-type {\n",
       "        vertical-align: middle;\n",
       "    }\n",
       "\n",
       "    .dataframe tbody tr th {\n",
       "        vertical-align: top;\n",
       "    }\n",
       "\n",
       "    .dataframe thead th {\n",
       "        text-align: right;\n",
       "    }\n",
       "</style>\n",
       "<table border=\"1\" class=\"dataframe\">\n",
       "  <thead>\n",
       "    <tr style=\"text-align: right;\">\n",
       "      <th></th>\n",
       "      <th>Valor</th>\n",
       "    </tr>\n",
       "    <tr>\n",
       "      <th>Categoria</th>\n",
       "      <th></th>\n",
       "    </tr>\n",
       "  </thead>\n",
       "  <tbody>\n",
       "    <tr>\n",
       "      <th>Habitação</th>\n",
       "      <td>462.0</td>\n",
       "    </tr>\n",
       "    <tr>\n",
       "      <th>Despesas Financeiras</th>\n",
       "      <td>430.5</td>\n",
       "    </tr>\n",
       "    <tr>\n",
       "      <th>Alimentação</th>\n",
       "      <td>409.5</td>\n",
       "    </tr>\n",
       "    <tr>\n",
       "      <th>Transportes</th>\n",
       "      <td>304.5</td>\n",
       "    </tr>\n",
       "    <tr>\n",
       "      <th>Profissional</th>\n",
       "      <td>252.0</td>\n",
       "    </tr>\n",
       "    <tr>\n",
       "      <th>Outras Despesas</th>\n",
       "      <td>157.5</td>\n",
       "    </tr>\n",
       "    <tr>\n",
       "      <th>Saúde</th>\n",
       "      <td>157.5</td>\n",
       "    </tr>\n",
       "    <tr>\n",
       "      <th>Lazer</th>\n",
       "      <td>21.0</td>\n",
       "    </tr>\n",
       "  </tbody>\n",
       "</table>\n",
       "</div>"
      ],
      "text/plain": [
       "                      Valor\n",
       "Categoria                  \n",
       "Habitação             462.0\n",
       "Despesas Financeiras  430.5\n",
       "Alimentação           409.5\n",
       "Transportes           304.5\n",
       "Profissional          252.0\n",
       "Outras Despesas       157.5\n",
       "Saúde                 157.5\n",
       "Lazer                  21.0"
      ]
     },
     "execution_count": 4,
     "metadata": {},
     "output_type": "execute_result"
    }
   ],
   "source": [
    "# Aqui é o filtro para pegar o que eu quero\n",
    "tabela_filtrada2 = base_dados[['Categoria','Valor']][\n",
    "    (base_dados[\"Mês\"] == 2) & \n",
    "    (base_dados[\"Ano\"] == 2023) &\n",
    "    (base_dados[\"Centro de Custo\"] == \"João\") &\n",
    "    (base_dados[\"Tipo\"] == \"Despesa\")]\n",
    "\n",
    "# Somei por categoria aqui e coloquei da maior à menor, definindo qual categoria é mais influente:\n",
    "tabela_filtrada2 = tabela_filtrada2.groupby(\"Categoria\").sum().sort_values(\"Valor\", ascending=False)\n",
    "tabela_filtrada2"
   ]
  },
  {
   "cell_type": "code",
   "execution_count": 5,
   "id": "f374e739",
   "metadata": {},
   "outputs": [
    {
     "data": {
      "application/vnd.plotly.v1+json": {
       "config": {
        "plotlyServerURL": "https://plot.ly"
       },
       "data": [
        {
         "alignmentgroup": "True",
         "hovertemplate": "Valor=%{x}<br>Categoria=%{y}<extra></extra>",
         "legendgroup": "",
         "marker": {
          "color": "#636efa",
          "pattern": {
           "shape": ""
          }
         },
         "name": "",
         "offsetgroup": "",
         "orientation": "h",
         "showlegend": false,
         "textposition": "auto",
         "type": "bar",
         "x": [
          21,
          157.5,
          157.5,
          252,
          304.5,
          409.5,
          430.5,
          462
         ],
         "xaxis": "x",
         "y": [
          "Lazer",
          "Outras Despesas",
          "Saúde",
          "Profissional",
          "Transportes",
          "Alimentação",
          "Despesas Financeiras",
          "Habitação"
         ],
         "yaxis": "y"
        }
       ],
       "layout": {
        "barmode": "relative",
        "legend": {
         "tracegroupgap": 0
        },
        "template": {
         "data": {
          "bar": [
           {
            "error_x": {
             "color": "#2a3f5f"
            },
            "error_y": {
             "color": "#2a3f5f"
            },
            "marker": {
             "line": {
              "color": "#E5ECF6",
              "width": 0.5
             },
             "pattern": {
              "fillmode": "overlay",
              "size": 10,
              "solidity": 0.2
             }
            },
            "type": "bar"
           }
          ],
          "barpolar": [
           {
            "marker": {
             "line": {
              "color": "#E5ECF6",
              "width": 0.5
             },
             "pattern": {
              "fillmode": "overlay",
              "size": 10,
              "solidity": 0.2
             }
            },
            "type": "barpolar"
           }
          ],
          "carpet": [
           {
            "aaxis": {
             "endlinecolor": "#2a3f5f",
             "gridcolor": "white",
             "linecolor": "white",
             "minorgridcolor": "white",
             "startlinecolor": "#2a3f5f"
            },
            "baxis": {
             "endlinecolor": "#2a3f5f",
             "gridcolor": "white",
             "linecolor": "white",
             "minorgridcolor": "white",
             "startlinecolor": "#2a3f5f"
            },
            "type": "carpet"
           }
          ],
          "choropleth": [
           {
            "colorbar": {
             "outlinewidth": 0,
             "ticks": ""
            },
            "type": "choropleth"
           }
          ],
          "contour": [
           {
            "colorbar": {
             "outlinewidth": 0,
             "ticks": ""
            },
            "colorscale": [
             [
              0,
              "#0d0887"
             ],
             [
              0.1111111111111111,
              "#46039f"
             ],
             [
              0.2222222222222222,
              "#7201a8"
             ],
             [
              0.3333333333333333,
              "#9c179e"
             ],
             [
              0.4444444444444444,
              "#bd3786"
             ],
             [
              0.5555555555555556,
              "#d8576b"
             ],
             [
              0.6666666666666666,
              "#ed7953"
             ],
             [
              0.7777777777777778,
              "#fb9f3a"
             ],
             [
              0.8888888888888888,
              "#fdca26"
             ],
             [
              1,
              "#f0f921"
             ]
            ],
            "type": "contour"
           }
          ],
          "contourcarpet": [
           {
            "colorbar": {
             "outlinewidth": 0,
             "ticks": ""
            },
            "type": "contourcarpet"
           }
          ],
          "heatmap": [
           {
            "colorbar": {
             "outlinewidth": 0,
             "ticks": ""
            },
            "colorscale": [
             [
              0,
              "#0d0887"
             ],
             [
              0.1111111111111111,
              "#46039f"
             ],
             [
              0.2222222222222222,
              "#7201a8"
             ],
             [
              0.3333333333333333,
              "#9c179e"
             ],
             [
              0.4444444444444444,
              "#bd3786"
             ],
             [
              0.5555555555555556,
              "#d8576b"
             ],
             [
              0.6666666666666666,
              "#ed7953"
             ],
             [
              0.7777777777777778,
              "#fb9f3a"
             ],
             [
              0.8888888888888888,
              "#fdca26"
             ],
             [
              1,
              "#f0f921"
             ]
            ],
            "type": "heatmap"
           }
          ],
          "heatmapgl": [
           {
            "colorbar": {
             "outlinewidth": 0,
             "ticks": ""
            },
            "colorscale": [
             [
              0,
              "#0d0887"
             ],
             [
              0.1111111111111111,
              "#46039f"
             ],
             [
              0.2222222222222222,
              "#7201a8"
             ],
             [
              0.3333333333333333,
              "#9c179e"
             ],
             [
              0.4444444444444444,
              "#bd3786"
             ],
             [
              0.5555555555555556,
              "#d8576b"
             ],
             [
              0.6666666666666666,
              "#ed7953"
             ],
             [
              0.7777777777777778,
              "#fb9f3a"
             ],
             [
              0.8888888888888888,
              "#fdca26"
             ],
             [
              1,
              "#f0f921"
             ]
            ],
            "type": "heatmapgl"
           }
          ],
          "histogram": [
           {
            "marker": {
             "pattern": {
              "fillmode": "overlay",
              "size": 10,
              "solidity": 0.2
             }
            },
            "type": "histogram"
           }
          ],
          "histogram2d": [
           {
            "colorbar": {
             "outlinewidth": 0,
             "ticks": ""
            },
            "colorscale": [
             [
              0,
              "#0d0887"
             ],
             [
              0.1111111111111111,
              "#46039f"
             ],
             [
              0.2222222222222222,
              "#7201a8"
             ],
             [
              0.3333333333333333,
              "#9c179e"
             ],
             [
              0.4444444444444444,
              "#bd3786"
             ],
             [
              0.5555555555555556,
              "#d8576b"
             ],
             [
              0.6666666666666666,
              "#ed7953"
             ],
             [
              0.7777777777777778,
              "#fb9f3a"
             ],
             [
              0.8888888888888888,
              "#fdca26"
             ],
             [
              1,
              "#f0f921"
             ]
            ],
            "type": "histogram2d"
           }
          ],
          "histogram2dcontour": [
           {
            "colorbar": {
             "outlinewidth": 0,
             "ticks": ""
            },
            "colorscale": [
             [
              0,
              "#0d0887"
             ],
             [
              0.1111111111111111,
              "#46039f"
             ],
             [
              0.2222222222222222,
              "#7201a8"
             ],
             [
              0.3333333333333333,
              "#9c179e"
             ],
             [
              0.4444444444444444,
              "#bd3786"
             ],
             [
              0.5555555555555556,
              "#d8576b"
             ],
             [
              0.6666666666666666,
              "#ed7953"
             ],
             [
              0.7777777777777778,
              "#fb9f3a"
             ],
             [
              0.8888888888888888,
              "#fdca26"
             ],
             [
              1,
              "#f0f921"
             ]
            ],
            "type": "histogram2dcontour"
           }
          ],
          "mesh3d": [
           {
            "colorbar": {
             "outlinewidth": 0,
             "ticks": ""
            },
            "type": "mesh3d"
           }
          ],
          "parcoords": [
           {
            "line": {
             "colorbar": {
              "outlinewidth": 0,
              "ticks": ""
             }
            },
            "type": "parcoords"
           }
          ],
          "pie": [
           {
            "automargin": true,
            "type": "pie"
           }
          ],
          "scatter": [
           {
            "fillpattern": {
             "fillmode": "overlay",
             "size": 10,
             "solidity": 0.2
            },
            "type": "scatter"
           }
          ],
          "scatter3d": [
           {
            "line": {
             "colorbar": {
              "outlinewidth": 0,
              "ticks": ""
             }
            },
            "marker": {
             "colorbar": {
              "outlinewidth": 0,
              "ticks": ""
             }
            },
            "type": "scatter3d"
           }
          ],
          "scattercarpet": [
           {
            "marker": {
             "colorbar": {
              "outlinewidth": 0,
              "ticks": ""
             }
            },
            "type": "scattercarpet"
           }
          ],
          "scattergeo": [
           {
            "marker": {
             "colorbar": {
              "outlinewidth": 0,
              "ticks": ""
             }
            },
            "type": "scattergeo"
           }
          ],
          "scattergl": [
           {
            "marker": {
             "colorbar": {
              "outlinewidth": 0,
              "ticks": ""
             }
            },
            "type": "scattergl"
           }
          ],
          "scattermapbox": [
           {
            "marker": {
             "colorbar": {
              "outlinewidth": 0,
              "ticks": ""
             }
            },
            "type": "scattermapbox"
           }
          ],
          "scatterpolar": [
           {
            "marker": {
             "colorbar": {
              "outlinewidth": 0,
              "ticks": ""
             }
            },
            "type": "scatterpolar"
           }
          ],
          "scatterpolargl": [
           {
            "marker": {
             "colorbar": {
              "outlinewidth": 0,
              "ticks": ""
             }
            },
            "type": "scatterpolargl"
           }
          ],
          "scatterternary": [
           {
            "marker": {
             "colorbar": {
              "outlinewidth": 0,
              "ticks": ""
             }
            },
            "type": "scatterternary"
           }
          ],
          "surface": [
           {
            "colorbar": {
             "outlinewidth": 0,
             "ticks": ""
            },
            "colorscale": [
             [
              0,
              "#0d0887"
             ],
             [
              0.1111111111111111,
              "#46039f"
             ],
             [
              0.2222222222222222,
              "#7201a8"
             ],
             [
              0.3333333333333333,
              "#9c179e"
             ],
             [
              0.4444444444444444,
              "#bd3786"
             ],
             [
              0.5555555555555556,
              "#d8576b"
             ],
             [
              0.6666666666666666,
              "#ed7953"
             ],
             [
              0.7777777777777778,
              "#fb9f3a"
             ],
             [
              0.8888888888888888,
              "#fdca26"
             ],
             [
              1,
              "#f0f921"
             ]
            ],
            "type": "surface"
           }
          ],
          "table": [
           {
            "cells": {
             "fill": {
              "color": "#EBF0F8"
             },
             "line": {
              "color": "white"
             }
            },
            "header": {
             "fill": {
              "color": "#C8D4E3"
             },
             "line": {
              "color": "white"
             }
            },
            "type": "table"
           }
          ]
         },
         "layout": {
          "annotationdefaults": {
           "arrowcolor": "#2a3f5f",
           "arrowhead": 0,
           "arrowwidth": 1
          },
          "autotypenumbers": "strict",
          "coloraxis": {
           "colorbar": {
            "outlinewidth": 0,
            "ticks": ""
           }
          },
          "colorscale": {
           "diverging": [
            [
             0,
             "#8e0152"
            ],
            [
             0.1,
             "#c51b7d"
            ],
            [
             0.2,
             "#de77ae"
            ],
            [
             0.3,
             "#f1b6da"
            ],
            [
             0.4,
             "#fde0ef"
            ],
            [
             0.5,
             "#f7f7f7"
            ],
            [
             0.6,
             "#e6f5d0"
            ],
            [
             0.7,
             "#b8e186"
            ],
            [
             0.8,
             "#7fbc41"
            ],
            [
             0.9,
             "#4d9221"
            ],
            [
             1,
             "#276419"
            ]
           ],
           "sequential": [
            [
             0,
             "#0d0887"
            ],
            [
             0.1111111111111111,
             "#46039f"
            ],
            [
             0.2222222222222222,
             "#7201a8"
            ],
            [
             0.3333333333333333,
             "#9c179e"
            ],
            [
             0.4444444444444444,
             "#bd3786"
            ],
            [
             0.5555555555555556,
             "#d8576b"
            ],
            [
             0.6666666666666666,
             "#ed7953"
            ],
            [
             0.7777777777777778,
             "#fb9f3a"
            ],
            [
             0.8888888888888888,
             "#fdca26"
            ],
            [
             1,
             "#f0f921"
            ]
           ],
           "sequentialminus": [
            [
             0,
             "#0d0887"
            ],
            [
             0.1111111111111111,
             "#46039f"
            ],
            [
             0.2222222222222222,
             "#7201a8"
            ],
            [
             0.3333333333333333,
             "#9c179e"
            ],
            [
             0.4444444444444444,
             "#bd3786"
            ],
            [
             0.5555555555555556,
             "#d8576b"
            ],
            [
             0.6666666666666666,
             "#ed7953"
            ],
            [
             0.7777777777777778,
             "#fb9f3a"
            ],
            [
             0.8888888888888888,
             "#fdca26"
            ],
            [
             1,
             "#f0f921"
            ]
           ]
          },
          "colorway": [
           "#636efa",
           "#EF553B",
           "#00cc96",
           "#ab63fa",
           "#FFA15A",
           "#19d3f3",
           "#FF6692",
           "#B6E880",
           "#FF97FF",
           "#FECB52"
          ],
          "font": {
           "color": "#2a3f5f"
          },
          "geo": {
           "bgcolor": "white",
           "lakecolor": "white",
           "landcolor": "#E5ECF6",
           "showlakes": true,
           "showland": true,
           "subunitcolor": "white"
          },
          "hoverlabel": {
           "align": "left"
          },
          "hovermode": "closest",
          "mapbox": {
           "style": "light"
          },
          "paper_bgcolor": "white",
          "plot_bgcolor": "#E5ECF6",
          "polar": {
           "angularaxis": {
            "gridcolor": "white",
            "linecolor": "white",
            "ticks": ""
           },
           "bgcolor": "#E5ECF6",
           "radialaxis": {
            "gridcolor": "white",
            "linecolor": "white",
            "ticks": ""
           }
          },
          "scene": {
           "xaxis": {
            "backgroundcolor": "#E5ECF6",
            "gridcolor": "white",
            "gridwidth": 2,
            "linecolor": "white",
            "showbackground": true,
            "ticks": "",
            "zerolinecolor": "white"
           },
           "yaxis": {
            "backgroundcolor": "#E5ECF6",
            "gridcolor": "white",
            "gridwidth": 2,
            "linecolor": "white",
            "showbackground": true,
            "ticks": "",
            "zerolinecolor": "white"
           },
           "zaxis": {
            "backgroundcolor": "#E5ECF6",
            "gridcolor": "white",
            "gridwidth": 2,
            "linecolor": "white",
            "showbackground": true,
            "ticks": "",
            "zerolinecolor": "white"
           }
          },
          "shapedefaults": {
           "line": {
            "color": "#2a3f5f"
           }
          },
          "ternary": {
           "aaxis": {
            "gridcolor": "white",
            "linecolor": "white",
            "ticks": ""
           },
           "baxis": {
            "gridcolor": "white",
            "linecolor": "white",
            "ticks": ""
           },
           "bgcolor": "#E5ECF6",
           "caxis": {
            "gridcolor": "white",
            "linecolor": "white",
            "ticks": ""
           }
          },
          "title": {
           "x": 0.05
          },
          "xaxis": {
           "automargin": true,
           "gridcolor": "white",
           "linecolor": "white",
           "ticks": "",
           "title": {
            "standoff": 15
           },
           "zerolinecolor": "white",
           "zerolinewidth": 2
          },
          "yaxis": {
           "automargin": true,
           "gridcolor": "white",
           "linecolor": "white",
           "ticks": "",
           "title": {
            "standoff": 15
           },
           "zerolinecolor": "white",
           "zerolinewidth": 2
          }
         }
        },
        "title": {
         "text": "Gastos por Categoria"
        },
        "xaxis": {
         "anchor": "y",
         "domain": [
          0,
          1
         ],
         "title": {
          "text": "Valor"
         }
        },
        "yaxis": {
         "anchor": "x",
         "domain": [
          0,
          1
         ],
         "title": {
          "text": "Categoria"
         }
        }
       }
      }
     },
     "metadata": {},
     "output_type": "display_data"
    }
   ],
   "source": [
    "import plotly.express as px\n",
    "\n",
    "fig = px.bar(tabela_filtrada2.sort_values(\"Valor\", ascending=True), x='Valor', orientation='h', title='Gastos por Categoria')\n",
    "\n",
    "fig.show()"
   ]
  },
  {
   "cell_type": "markdown",
   "id": "5832a6b1-be20-49e5-89bc-0bd1a31a732b",
   "metadata": {},
   "source": [
    "### Quanto foi a influencia de cada uma das categorias no total recebido de receita no mês de março de 2023 do João?"
   ]
  },
  {
   "cell_type": "code",
   "execution_count": 6,
   "id": "97cc7697-f91e-4415-a74d-7ae7c206c1dc",
   "metadata": {},
   "outputs": [
    {
     "data": {
      "text/plain": [
       "4500.0"
      ]
     },
     "execution_count": 6,
     "metadata": {},
     "output_type": "execute_result"
    }
   ],
   "source": [
    "# Primeiro passo é filtrar o quanto o João ganhou no mês de março de 2023:\n",
    "tabela_filtrada = base_dados[\n",
    "    (base_dados[\"Mês\"] == 5) & \n",
    "    (base_dados[\"Ano\"] == 2023) &\n",
    "    (base_dados[\"Centro de Custo\"] == \"João\") &\n",
    "    (base_dados[\"Tipo\"] == \"Receita\")]\n",
    "\n",
    "receita_apurada = tabela_filtrada['Valor'].sum()\n",
    "receita_apurada"
   ]
  },
  {
   "cell_type": "code",
   "execution_count": 7,
   "id": "7360034b",
   "metadata": {},
   "outputs": [
    {
     "data": {
      "text/plain": [
       "{'Habitação': '10.27%',\n",
       " 'Despesas Financeiras': '9.57%',\n",
       " 'Alimentação': '9.10%',\n",
       " 'Transportes': '6.77%',\n",
       " 'Profissional': '5.60%',\n",
       " 'Outras Despesas': '3.50%',\n",
       " 'Saúde': '3.50%',\n",
       " 'Lazer': '0.47%'}"
      ]
     },
     "execution_count": 7,
     "metadata": {},
     "output_type": "execute_result"
    }
   ],
   "source": [
    "# Primeiro passo é transformar a tabela em dicionário para que fique mais fácil iterar sobre ela:\n",
    "dicionario = tabela_filtrada2[\"Valor\"].to_dict()\n",
    "\n",
    "# Depois eu crio um dicionário vazio para adicionar os elementos nele para transformar em tabela:\n",
    "dict_to_table = {}\n",
    "\n",
    "for chaves, valores in dicionario.items():\n",
    "    valor_para_adicionar = f'{(valores / receita_apurada)*100:.2f}%'\n",
    "    dict_to_table.update({chaves: valor_para_adicionar})\n",
    "\n",
    "\n",
    "# Transformar o dicionário em tabela para adicionar a coluna com a porcentagem no item de cima:\n",
    "dict_to_table\n"
   ]
  },
  {
   "cell_type": "code",
   "execution_count": 8,
   "id": "f7ac0317",
   "metadata": {},
   "outputs": [
    {
     "data": {
      "text/html": [
       "<div>\n",
       "<style scoped>\n",
       "    .dataframe tbody tr th:only-of-type {\n",
       "        vertical-align: middle;\n",
       "    }\n",
       "\n",
       "    .dataframe tbody tr th {\n",
       "        vertical-align: top;\n",
       "    }\n",
       "\n",
       "    .dataframe thead th {\n",
       "        text-align: right;\n",
       "    }\n",
       "</style>\n",
       "<table border=\"1\" class=\"dataframe\">\n",
       "  <thead>\n",
       "    <tr style=\"text-align: right;\">\n",
       "      <th></th>\n",
       "      <th>Valor</th>\n",
       "      <th>(%)</th>\n",
       "    </tr>\n",
       "    <tr>\n",
       "      <th>Categoria</th>\n",
       "      <th></th>\n",
       "      <th></th>\n",
       "    </tr>\n",
       "  </thead>\n",
       "  <tbody>\n",
       "    <tr>\n",
       "      <th>Habitação</th>\n",
       "      <td>462.0</td>\n",
       "      <td>10.27%</td>\n",
       "    </tr>\n",
       "    <tr>\n",
       "      <th>Despesas Financeiras</th>\n",
       "      <td>430.5</td>\n",
       "      <td>9.57%</td>\n",
       "    </tr>\n",
       "    <tr>\n",
       "      <th>Alimentação</th>\n",
       "      <td>409.5</td>\n",
       "      <td>9.10%</td>\n",
       "    </tr>\n",
       "    <tr>\n",
       "      <th>Transportes</th>\n",
       "      <td>304.5</td>\n",
       "      <td>6.77%</td>\n",
       "    </tr>\n",
       "    <tr>\n",
       "      <th>Profissional</th>\n",
       "      <td>252.0</td>\n",
       "      <td>5.60%</td>\n",
       "    </tr>\n",
       "    <tr>\n",
       "      <th>Outras Despesas</th>\n",
       "      <td>157.5</td>\n",
       "      <td>3.50%</td>\n",
       "    </tr>\n",
       "    <tr>\n",
       "      <th>Saúde</th>\n",
       "      <td>157.5</td>\n",
       "      <td>3.50%</td>\n",
       "    </tr>\n",
       "    <tr>\n",
       "      <th>Lazer</th>\n",
       "      <td>21.0</td>\n",
       "      <td>0.47%</td>\n",
       "    </tr>\n",
       "  </tbody>\n",
       "</table>\n",
       "</div>"
      ],
      "text/plain": [
       "                      Valor     (%)\n",
       "Categoria                          \n",
       "Habitação             462.0  10.27%\n",
       "Despesas Financeiras  430.5   9.57%\n",
       "Alimentação           409.5   9.10%\n",
       "Transportes           304.5   6.77%\n",
       "Profissional          252.0   5.60%\n",
       "Outras Despesas       157.5   3.50%\n",
       "Saúde                 157.5   3.50%\n",
       "Lazer                  21.0   0.47%"
      ]
     },
     "execution_count": 8,
     "metadata": {},
     "output_type": "execute_result"
    }
   ],
   "source": [
    "# Transformei o dado que estava em um dicionário em uma tabela:\n",
    "tb = pd.DataFrame.from_dict(dict_to_table, orient='index', columns=['Percentual'])\n",
    "tabela_filtrada2['(%)'] = tb['Percentual']\n",
    "tabela_filtrada2"
   ]
  },
  {
   "cell_type": "markdown",
   "id": "cc1dc839-fa50-4b24-ac50-0edf9fce5051",
   "metadata": {},
   "source": [
    "### Os gastos ao longo de 2023 da maria estão diminuindo?"
   ]
  },
  {
   "cell_type": "code",
   "execution_count": 9,
   "id": "3a0d06eb-43de-4640-854e-b8e0b05b2ae9",
   "metadata": {},
   "outputs": [
    {
     "data": {
      "text/plain": [
       "[2026.5,\n",
       " 2898.0,\n",
       " 2583.0,\n",
       " 1932.0,\n",
       " 2562.0,\n",
       " 1407.0,\n",
       " 2031.0,\n",
       " 3507.0,\n",
       " 2457.0,\n",
       " 2572.5,\n",
       " 1984.5,\n",
       " 2719.5]"
      ]
     },
     "execution_count": 9,
     "metadata": {},
     "output_type": "execute_result"
    }
   ],
   "source": [
    "# Listar todos os gastos da Maria realizados em 2023:\n",
    "lista_gastos_maria = []\n",
    "\n",
    "for mes in range (1,13):\n",
    "\n",
    "    tabela_filtrada = base_dados[\n",
    "        (base_dados[\"Mês\"] == mes) & \n",
    "        (base_dados[\"Ano\"] == 2023) &\n",
    "        (base_dados[\"Centro de Custo\"] == \"Maria\") &\n",
    "        (base_dados[\"Tipo\"] == \"Despesa\")]\n",
    "\n",
    "    lista_gastos_maria.append(tabela_filtrada['Valor'].sum())\n",
    "\n",
    "lista_gastos_maria"
   ]
  },
  {
   "cell_type": "code",
   "execution_count": 13,
   "id": "ace10c02",
   "metadata": {},
   "outputs": [
    {
     "data": {
      "application/vnd.plotly.v1+json": {
       "config": {
        "plotlyServerURL": "https://plot.ly"
       },
       "data": [
        {
         "mode": "markers+lines",
         "type": "scatter",
         "x": [
          0,
          1,
          2,
          3,
          4,
          5,
          6,
          7,
          8,
          9,
          10,
          11,
          12
         ],
         "y": [
          2026.5,
          2898,
          2583,
          1932,
          2562,
          1407,
          2031,
          3507,
          2457,
          2572.5,
          1984.5,
          2719.5
         ]
        }
       ],
       "layout": {
        "template": {
         "data": {
          "bar": [
           {
            "error_x": {
             "color": "#2a3f5f"
            },
            "error_y": {
             "color": "#2a3f5f"
            },
            "marker": {
             "line": {
              "color": "#E5ECF6",
              "width": 0.5
             },
             "pattern": {
              "fillmode": "overlay",
              "size": 10,
              "solidity": 0.2
             }
            },
            "type": "bar"
           }
          ],
          "barpolar": [
           {
            "marker": {
             "line": {
              "color": "#E5ECF6",
              "width": 0.5
             },
             "pattern": {
              "fillmode": "overlay",
              "size": 10,
              "solidity": 0.2
             }
            },
            "type": "barpolar"
           }
          ],
          "carpet": [
           {
            "aaxis": {
             "endlinecolor": "#2a3f5f",
             "gridcolor": "white",
             "linecolor": "white",
             "minorgridcolor": "white",
             "startlinecolor": "#2a3f5f"
            },
            "baxis": {
             "endlinecolor": "#2a3f5f",
             "gridcolor": "white",
             "linecolor": "white",
             "minorgridcolor": "white",
             "startlinecolor": "#2a3f5f"
            },
            "type": "carpet"
           }
          ],
          "choropleth": [
           {
            "colorbar": {
             "outlinewidth": 0,
             "ticks": ""
            },
            "type": "choropleth"
           }
          ],
          "contour": [
           {
            "colorbar": {
             "outlinewidth": 0,
             "ticks": ""
            },
            "colorscale": [
             [
              0,
              "#0d0887"
             ],
             [
              0.1111111111111111,
              "#46039f"
             ],
             [
              0.2222222222222222,
              "#7201a8"
             ],
             [
              0.3333333333333333,
              "#9c179e"
             ],
             [
              0.4444444444444444,
              "#bd3786"
             ],
             [
              0.5555555555555556,
              "#d8576b"
             ],
             [
              0.6666666666666666,
              "#ed7953"
             ],
             [
              0.7777777777777778,
              "#fb9f3a"
             ],
             [
              0.8888888888888888,
              "#fdca26"
             ],
             [
              1,
              "#f0f921"
             ]
            ],
            "type": "contour"
           }
          ],
          "contourcarpet": [
           {
            "colorbar": {
             "outlinewidth": 0,
             "ticks": ""
            },
            "type": "contourcarpet"
           }
          ],
          "heatmap": [
           {
            "colorbar": {
             "outlinewidth": 0,
             "ticks": ""
            },
            "colorscale": [
             [
              0,
              "#0d0887"
             ],
             [
              0.1111111111111111,
              "#46039f"
             ],
             [
              0.2222222222222222,
              "#7201a8"
             ],
             [
              0.3333333333333333,
              "#9c179e"
             ],
             [
              0.4444444444444444,
              "#bd3786"
             ],
             [
              0.5555555555555556,
              "#d8576b"
             ],
             [
              0.6666666666666666,
              "#ed7953"
             ],
             [
              0.7777777777777778,
              "#fb9f3a"
             ],
             [
              0.8888888888888888,
              "#fdca26"
             ],
             [
              1,
              "#f0f921"
             ]
            ],
            "type": "heatmap"
           }
          ],
          "heatmapgl": [
           {
            "colorbar": {
             "outlinewidth": 0,
             "ticks": ""
            },
            "colorscale": [
             [
              0,
              "#0d0887"
             ],
             [
              0.1111111111111111,
              "#46039f"
             ],
             [
              0.2222222222222222,
              "#7201a8"
             ],
             [
              0.3333333333333333,
              "#9c179e"
             ],
             [
              0.4444444444444444,
              "#bd3786"
             ],
             [
              0.5555555555555556,
              "#d8576b"
             ],
             [
              0.6666666666666666,
              "#ed7953"
             ],
             [
              0.7777777777777778,
              "#fb9f3a"
             ],
             [
              0.8888888888888888,
              "#fdca26"
             ],
             [
              1,
              "#f0f921"
             ]
            ],
            "type": "heatmapgl"
           }
          ],
          "histogram": [
           {
            "marker": {
             "pattern": {
              "fillmode": "overlay",
              "size": 10,
              "solidity": 0.2
             }
            },
            "type": "histogram"
           }
          ],
          "histogram2d": [
           {
            "colorbar": {
             "outlinewidth": 0,
             "ticks": ""
            },
            "colorscale": [
             [
              0,
              "#0d0887"
             ],
             [
              0.1111111111111111,
              "#46039f"
             ],
             [
              0.2222222222222222,
              "#7201a8"
             ],
             [
              0.3333333333333333,
              "#9c179e"
             ],
             [
              0.4444444444444444,
              "#bd3786"
             ],
             [
              0.5555555555555556,
              "#d8576b"
             ],
             [
              0.6666666666666666,
              "#ed7953"
             ],
             [
              0.7777777777777778,
              "#fb9f3a"
             ],
             [
              0.8888888888888888,
              "#fdca26"
             ],
             [
              1,
              "#f0f921"
             ]
            ],
            "type": "histogram2d"
           }
          ],
          "histogram2dcontour": [
           {
            "colorbar": {
             "outlinewidth": 0,
             "ticks": ""
            },
            "colorscale": [
             [
              0,
              "#0d0887"
             ],
             [
              0.1111111111111111,
              "#46039f"
             ],
             [
              0.2222222222222222,
              "#7201a8"
             ],
             [
              0.3333333333333333,
              "#9c179e"
             ],
             [
              0.4444444444444444,
              "#bd3786"
             ],
             [
              0.5555555555555556,
              "#d8576b"
             ],
             [
              0.6666666666666666,
              "#ed7953"
             ],
             [
              0.7777777777777778,
              "#fb9f3a"
             ],
             [
              0.8888888888888888,
              "#fdca26"
             ],
             [
              1,
              "#f0f921"
             ]
            ],
            "type": "histogram2dcontour"
           }
          ],
          "mesh3d": [
           {
            "colorbar": {
             "outlinewidth": 0,
             "ticks": ""
            },
            "type": "mesh3d"
           }
          ],
          "parcoords": [
           {
            "line": {
             "colorbar": {
              "outlinewidth": 0,
              "ticks": ""
             }
            },
            "type": "parcoords"
           }
          ],
          "pie": [
           {
            "automargin": true,
            "type": "pie"
           }
          ],
          "scatter": [
           {
            "fillpattern": {
             "fillmode": "overlay",
             "size": 10,
             "solidity": 0.2
            },
            "type": "scatter"
           }
          ],
          "scatter3d": [
           {
            "line": {
             "colorbar": {
              "outlinewidth": 0,
              "ticks": ""
             }
            },
            "marker": {
             "colorbar": {
              "outlinewidth": 0,
              "ticks": ""
             }
            },
            "type": "scatter3d"
           }
          ],
          "scattercarpet": [
           {
            "marker": {
             "colorbar": {
              "outlinewidth": 0,
              "ticks": ""
             }
            },
            "type": "scattercarpet"
           }
          ],
          "scattergeo": [
           {
            "marker": {
             "colorbar": {
              "outlinewidth": 0,
              "ticks": ""
             }
            },
            "type": "scattergeo"
           }
          ],
          "scattergl": [
           {
            "marker": {
             "colorbar": {
              "outlinewidth": 0,
              "ticks": ""
             }
            },
            "type": "scattergl"
           }
          ],
          "scattermapbox": [
           {
            "marker": {
             "colorbar": {
              "outlinewidth": 0,
              "ticks": ""
             }
            },
            "type": "scattermapbox"
           }
          ],
          "scatterpolar": [
           {
            "marker": {
             "colorbar": {
              "outlinewidth": 0,
              "ticks": ""
             }
            },
            "type": "scatterpolar"
           }
          ],
          "scatterpolargl": [
           {
            "marker": {
             "colorbar": {
              "outlinewidth": 0,
              "ticks": ""
             }
            },
            "type": "scatterpolargl"
           }
          ],
          "scatterternary": [
           {
            "marker": {
             "colorbar": {
              "outlinewidth": 0,
              "ticks": ""
             }
            },
            "type": "scatterternary"
           }
          ],
          "surface": [
           {
            "colorbar": {
             "outlinewidth": 0,
             "ticks": ""
            },
            "colorscale": [
             [
              0,
              "#0d0887"
             ],
             [
              0.1111111111111111,
              "#46039f"
             ],
             [
              0.2222222222222222,
              "#7201a8"
             ],
             [
              0.3333333333333333,
              "#9c179e"
             ],
             [
              0.4444444444444444,
              "#bd3786"
             ],
             [
              0.5555555555555556,
              "#d8576b"
             ],
             [
              0.6666666666666666,
              "#ed7953"
             ],
             [
              0.7777777777777778,
              "#fb9f3a"
             ],
             [
              0.8888888888888888,
              "#fdca26"
             ],
             [
              1,
              "#f0f921"
             ]
            ],
            "type": "surface"
           }
          ],
          "table": [
           {
            "cells": {
             "fill": {
              "color": "#EBF0F8"
             },
             "line": {
              "color": "white"
             }
            },
            "header": {
             "fill": {
              "color": "#C8D4E3"
             },
             "line": {
              "color": "white"
             }
            },
            "type": "table"
           }
          ]
         },
         "layout": {
          "annotationdefaults": {
           "arrowcolor": "#2a3f5f",
           "arrowhead": 0,
           "arrowwidth": 1
          },
          "autotypenumbers": "strict",
          "coloraxis": {
           "colorbar": {
            "outlinewidth": 0,
            "ticks": ""
           }
          },
          "colorscale": {
           "diverging": [
            [
             0,
             "#8e0152"
            ],
            [
             0.1,
             "#c51b7d"
            ],
            [
             0.2,
             "#de77ae"
            ],
            [
             0.3,
             "#f1b6da"
            ],
            [
             0.4,
             "#fde0ef"
            ],
            [
             0.5,
             "#f7f7f7"
            ],
            [
             0.6,
             "#e6f5d0"
            ],
            [
             0.7,
             "#b8e186"
            ],
            [
             0.8,
             "#7fbc41"
            ],
            [
             0.9,
             "#4d9221"
            ],
            [
             1,
             "#276419"
            ]
           ],
           "sequential": [
            [
             0,
             "#0d0887"
            ],
            [
             0.1111111111111111,
             "#46039f"
            ],
            [
             0.2222222222222222,
             "#7201a8"
            ],
            [
             0.3333333333333333,
             "#9c179e"
            ],
            [
             0.4444444444444444,
             "#bd3786"
            ],
            [
             0.5555555555555556,
             "#d8576b"
            ],
            [
             0.6666666666666666,
             "#ed7953"
            ],
            [
             0.7777777777777778,
             "#fb9f3a"
            ],
            [
             0.8888888888888888,
             "#fdca26"
            ],
            [
             1,
             "#f0f921"
            ]
           ],
           "sequentialminus": [
            [
             0,
             "#0d0887"
            ],
            [
             0.1111111111111111,
             "#46039f"
            ],
            [
             0.2222222222222222,
             "#7201a8"
            ],
            [
             0.3333333333333333,
             "#9c179e"
            ],
            [
             0.4444444444444444,
             "#bd3786"
            ],
            [
             0.5555555555555556,
             "#d8576b"
            ],
            [
             0.6666666666666666,
             "#ed7953"
            ],
            [
             0.7777777777777778,
             "#fb9f3a"
            ],
            [
             0.8888888888888888,
             "#fdca26"
            ],
            [
             1,
             "#f0f921"
            ]
           ]
          },
          "colorway": [
           "#636efa",
           "#EF553B",
           "#00cc96",
           "#ab63fa",
           "#FFA15A",
           "#19d3f3",
           "#FF6692",
           "#B6E880",
           "#FF97FF",
           "#FECB52"
          ],
          "font": {
           "color": "#2a3f5f"
          },
          "geo": {
           "bgcolor": "white",
           "lakecolor": "white",
           "landcolor": "#E5ECF6",
           "showlakes": true,
           "showland": true,
           "subunitcolor": "white"
          },
          "hoverlabel": {
           "align": "left"
          },
          "hovermode": "closest",
          "mapbox": {
           "style": "light"
          },
          "paper_bgcolor": "white",
          "plot_bgcolor": "#E5ECF6",
          "polar": {
           "angularaxis": {
            "gridcolor": "white",
            "linecolor": "white",
            "ticks": ""
           },
           "bgcolor": "#E5ECF6",
           "radialaxis": {
            "gridcolor": "white",
            "linecolor": "white",
            "ticks": ""
           }
          },
          "scene": {
           "xaxis": {
            "backgroundcolor": "#E5ECF6",
            "gridcolor": "white",
            "gridwidth": 2,
            "linecolor": "white",
            "showbackground": true,
            "ticks": "",
            "zerolinecolor": "white"
           },
           "yaxis": {
            "backgroundcolor": "#E5ECF6",
            "gridcolor": "white",
            "gridwidth": 2,
            "linecolor": "white",
            "showbackground": true,
            "ticks": "",
            "zerolinecolor": "white"
           },
           "zaxis": {
            "backgroundcolor": "#E5ECF6",
            "gridcolor": "white",
            "gridwidth": 2,
            "linecolor": "white",
            "showbackground": true,
            "ticks": "",
            "zerolinecolor": "white"
           }
          },
          "shapedefaults": {
           "line": {
            "color": "#2a3f5f"
           }
          },
          "ternary": {
           "aaxis": {
            "gridcolor": "white",
            "linecolor": "white",
            "ticks": ""
           },
           "baxis": {
            "gridcolor": "white",
            "linecolor": "white",
            "ticks": ""
           },
           "bgcolor": "#E5ECF6",
           "caxis": {
            "gridcolor": "white",
            "linecolor": "white",
            "ticks": ""
           }
          },
          "title": {
           "x": 0.05
          },
          "xaxis": {
           "automargin": true,
           "gridcolor": "white",
           "linecolor": "white",
           "ticks": "",
           "title": {
            "standoff": 15
           },
           "zerolinecolor": "white",
           "zerolinewidth": 2
          },
          "yaxis": {
           "automargin": true,
           "gridcolor": "white",
           "linecolor": "white",
           "ticks": "",
           "title": {
            "standoff": 15
           },
           "zerolinecolor": "white",
           "zerolinewidth": 2
          }
         }
        }
       }
      }
     },
     "metadata": {},
     "output_type": "display_data"
    }
   ],
   "source": [
    "import plotly.graph_objects as go\n",
    "\n",
    "x = [0,1,2,3,4,5,6,7,8,9,10,11,12] # criar um dicionário para colocar os meses aqui e \n",
    "\n",
    "fig = go.Figure(data=go.Scatter(x = x, y=lista_gastos_maria, mode=\"markers + lines\"))\n",
    "\n",
    "fig.show()"
   ]
  },
  {
   "cell_type": "code",
   "execution_count": 82,
   "id": "4a32b65f",
   "metadata": {},
   "outputs": [
    {
     "data": {
      "image/png": "[encoded data removed]",
      "text/plain": [
       "<Figure size 640x480 with 1 Axes>"
      ]
     },
     "metadata": {},
     "output_type": "display_data"
    }
   ],
   "source": [
    "# Criar um gráfico de linhas\n",
    "import matplotlib.pyplot as plt\n",
    "\n",
    "plt.plot(lista_gastos_maria, marker='o', linestyle='-', color='b')\n",
    "plt.title(\"Gastos ao longo do tempo\")\n",
    "plt.xlabel(\"Mês\")\n",
    "plt.ylabel(\"Valor\")\n",
    "plt.grid(True)"
   ]
  },
  {
   "cell_type": "markdown",
   "id": "821c0146-8718-4877-a4c0-c277784b96d2",
   "metadata": {},
   "source": [
    "### Quanto a pergunta anterior, quem está gastando mais ao longo dos meses, o joão ou a maria?"
   ]
  },
  {
   "cell_type": "code",
   "execution_count": 10,
   "id": "75687fee-4494-4f99-9da1-2e667aa3b11d",
   "metadata": {},
   "outputs": [
    {
     "data": {
      "image/png": "[encoded data removed]",
      "text/plain": [
       "<Figure size 640x480 with 1 Axes>"
      ]
     },
     "metadata": {},
     "output_type": "display_data"
    }
   ],
   "source": [
    "# Listar todos os gastos do João realizados em 2023:\n",
    "lista_gastos_joao = []\n",
    "\n",
    "for mes in range (1,13):\n",
    "\n",
    "    tabela_filtrada = base_dados[\n",
    "        (base_dados[\"Mês\"] == mes) & \n",
    "        (base_dados[\"Ano\"] == 2023) &\n",
    "        (base_dados[\"Centro de Custo\"] == \"João\") &\n",
    "        (base_dados[\"Tipo\"] == \"Despesa\")]\n",
    "\n",
    "    lista_gastos_joao.append(tabela_filtrada['Valor'].sum())\n",
    "\n",
    "# Colocar no gráfico criado as duas linhas para analisar a evolução de gastos de ambos\n",
    "plt.plot(lista_gastos_maria, marker='o', linestyle='-', color='b')\n",
    "plt.plot(lista_gastos_joao, marker='o', linestyle='-', color='r')\n",
    "plt.title(\"Gastos ao longo do tempo\")\n",
    "plt.xlabel(\"Mês\")\n",
    "plt.ylabel(\"Valor\")\n",
    "plt.grid(True)"
   ]
  },
  {
   "cell_type": "markdown",
   "id": "66a11509-2a1d-4552-a172-32b27794029e",
   "metadata": {},
   "source": [
    "### Considerando o orçamento de ambos no mês de fevereiro de 2023, qual foi a porcentagem comprometida do orçamento em gastos?"
   ]
  },
  {
   "cell_type": "code",
   "execution_count": 11,
   "id": "992935d9-d5de-47e6-b53c-b7607cc7fd48",
   "metadata": {},
   "outputs": [],
   "source": [
    "# Filtrei os gastos do João pelo período que eu quero\n",
    "tabela_filtrada_joao = base_dados[\n",
    "    (base_dados[\"Mês\"] == 2) & \n",
    "    (base_dados[\"Ano\"] == 2023) &\n",
    "    (base_dados[\"Centro de Custo\"] == \"João\") &\n",
    "    (base_dados[\"Tipo\"] == \"Despesa\")]\n",
    "\n",
    "# Filtrei os gastos da Maria pelo período que eu quero\n",
    "tabela_filtrada_maria = base_dados[\n",
    "    (base_dados[\"Mês\"] == 2) & \n",
    "    (base_dados[\"Ano\"] == 2023) &\n",
    "    (base_dados[\"Centro de Custo\"] == \"Maria\") &\n",
    "    (base_dados[\"Tipo\"] == \"Despesa\")]"
   ]
  },
  {
   "cell_type": "code",
   "execution_count": 12,
   "id": "2086a8ec",
   "metadata": {},
   "outputs": [
    {
     "data": {
      "text/html": [
       "<div>\n",
       "<style scoped>\n",
       "    .dataframe tbody tr th:only-of-type {\n",
       "        vertical-align: middle;\n",
       "    }\n",
       "\n",
       "    .dataframe tbody tr th {\n",
       "        vertical-align: top;\n",
       "    }\n",
       "\n",
       "    .dataframe thead th {\n",
       "        text-align: right;\n",
       "    }\n",
       "</style>\n",
       "<table border=\"1\" class=\"dataframe\">\n",
       "  <thead>\n",
       "    <tr style=\"text-align: right;\">\n",
       "      <th></th>\n",
       "      <th>Valor</th>\n",
       "    </tr>\n",
       "    <tr>\n",
       "      <th>Categoria</th>\n",
       "      <th></th>\n",
       "    </tr>\n",
       "  </thead>\n",
       "  <tbody>\n",
       "    <tr>\n",
       "      <th>Habitação</th>\n",
       "      <td>462.0</td>\n",
       "    </tr>\n",
       "    <tr>\n",
       "      <th>Despesas Financeiras</th>\n",
       "      <td>430.5</td>\n",
       "    </tr>\n",
       "    <tr>\n",
       "      <th>Alimentação</th>\n",
       "      <td>409.5</td>\n",
       "    </tr>\n",
       "    <tr>\n",
       "      <th>Transportes</th>\n",
       "      <td>304.5</td>\n",
       "    </tr>\n",
       "    <tr>\n",
       "      <th>Profissional</th>\n",
       "      <td>252.0</td>\n",
       "    </tr>\n",
       "    <tr>\n",
       "      <th>Outras Despesas</th>\n",
       "      <td>157.5</td>\n",
       "    </tr>\n",
       "    <tr>\n",
       "      <th>Saúde</th>\n",
       "      <td>157.5</td>\n",
       "    </tr>\n",
       "    <tr>\n",
       "      <th>Lazer</th>\n",
       "      <td>21.0</td>\n",
       "    </tr>\n",
       "  </tbody>\n",
       "</table>\n",
       "</div>"
      ],
      "text/plain": [
       "                      Valor\n",
       "Categoria                  \n",
       "Habitação             462.0\n",
       "Despesas Financeiras  430.5\n",
       "Alimentação           409.5\n",
       "Transportes           304.5\n",
       "Profissional          252.0\n",
       "Outras Despesas       157.5\n",
       "Saúde                 157.5\n",
       "Lazer                  21.0"
      ]
     },
     "execution_count": 12,
     "metadata": {},
     "output_type": "execute_result"
    }
   ],
   "source": [
    "# Somei por Categoria filtrando apenas o João pelo período que eu quero - no caso do João\n",
    "tabela_filtrada_joao = tabela_filtrada_joao[['Categoria', 'Valor']].groupby(\"Categoria\").sum().sort_values(\"Valor\", ascending=False)\n",
    "tabela_filtrada_joao"
   ]
  },
  {
   "cell_type": "code",
   "execution_count": 13,
   "id": "a59269a7",
   "metadata": {},
   "outputs": [
    {
     "data": {
      "text/html": [
       "<div>\n",
       "<style scoped>\n",
       "    .dataframe tbody tr th:only-of-type {\n",
       "        vertical-align: middle;\n",
       "    }\n",
       "\n",
       "    .dataframe tbody tr th {\n",
       "        vertical-align: top;\n",
       "    }\n",
       "\n",
       "    .dataframe thead th {\n",
       "        text-align: right;\n",
       "    }\n",
       "</style>\n",
       "<table border=\"1\" class=\"dataframe\">\n",
       "  <thead>\n",
       "    <tr style=\"text-align: right;\">\n",
       "      <th></th>\n",
       "      <th>Valor</th>\n",
       "    </tr>\n",
       "    <tr>\n",
       "      <th>Categoria</th>\n",
       "      <th></th>\n",
       "    </tr>\n",
       "  </thead>\n",
       "  <tbody>\n",
       "    <tr>\n",
       "      <th>Saúde</th>\n",
       "      <td>525.0</td>\n",
       "    </tr>\n",
       "    <tr>\n",
       "      <th>Transportes</th>\n",
       "      <td>514.5</td>\n",
       "    </tr>\n",
       "    <tr>\n",
       "      <th>Despesas Financeiras</th>\n",
       "      <td>493.5</td>\n",
       "    </tr>\n",
       "    <tr>\n",
       "      <th>Habitação</th>\n",
       "      <td>283.5</td>\n",
       "    </tr>\n",
       "    <tr>\n",
       "      <th>Cuidados Pessoais</th>\n",
       "      <td>273.0</td>\n",
       "    </tr>\n",
       "    <tr>\n",
       "      <th>Profissional</th>\n",
       "      <td>262.5</td>\n",
       "    </tr>\n",
       "    <tr>\n",
       "      <th>Outras Despesas</th>\n",
       "      <td>189.0</td>\n",
       "    </tr>\n",
       "    <tr>\n",
       "      <th>Lazer</th>\n",
       "      <td>157.5</td>\n",
       "    </tr>\n",
       "    <tr>\n",
       "      <th>Alimentação</th>\n",
       "      <td>126.0</td>\n",
       "    </tr>\n",
       "    <tr>\n",
       "      <th>Vestuário</th>\n",
       "      <td>73.5</td>\n",
       "    </tr>\n",
       "  </tbody>\n",
       "</table>\n",
       "</div>"
      ],
      "text/plain": [
       "                      Valor\n",
       "Categoria                  \n",
       "Saúde                 525.0\n",
       "Transportes           514.5\n",
       "Despesas Financeiras  493.5\n",
       "Habitação             283.5\n",
       "Cuidados Pessoais     273.0\n",
       "Profissional          262.5\n",
       "Outras Despesas       189.0\n",
       "Lazer                 157.5\n",
       "Alimentação           126.0\n",
       "Vestuário              73.5"
      ]
     },
     "execution_count": 13,
     "metadata": {},
     "output_type": "execute_result"
    }
   ],
   "source": [
    "# Somei por Categoria filtrando apenas o João pelo período que eu quero - no caso do Maria\n",
    "tabela_filtrada_maria = tabela_filtrada_maria[['Categoria', 'Valor']].groupby(\"Categoria\").sum().sort_values(\"Valor\", ascending=False)\n",
    "tabela_filtrada_maria"
   ]
  },
  {
   "cell_type": "code",
   "execution_count": 14,
   "id": "a7eee8f2",
   "metadata": {},
   "outputs": [],
   "source": [
    "# Primeiro passo é transformar as tabelas em dicionários para que fique mais fácil iterar sobre ela:\n",
    "dicionario_joao = tabela_filtrada_joao[\"Valor\"].to_dict()\n",
    "dicionario_maria = tabela_filtrada_maria[\"Valor\"].to_dict()\n",
    "\n",
    "# Depois eu crio um dicionário vazio para adicionar os elementos nele para transformar em tabela:\n",
    "dict_gastos_joão = {}\n",
    "dict_gastos_maria = {}"
   ]
  },
  {
   "cell_type": "code",
   "execution_count": 15,
   "id": "0a466431",
   "metadata": {},
   "outputs": [],
   "source": [
    "# Apurar a receita do João e da Maria:\n",
    "receita_apurada_joao = base_dados[\n",
    "    (base_dados[\"Mês\"] == 2) & \n",
    "    (base_dados[\"Ano\"] == 2023) &\n",
    "    (base_dados[\"Centro de Custo\"] == \"João\") &\n",
    "    (base_dados[\"Tipo\"] == \"Receita\")]\n",
    "\n",
    "receita_apurada_joao = receita_apurada_joao['Valor'].sum()\n",
    "\n",
    "receita_apurada_maria = base_dados[\n",
    "    (base_dados[\"Mês\"] == 2) & \n",
    "    (base_dados[\"Ano\"] == 2023) &\n",
    "    (base_dados[\"Centro de Custo\"] == \"Maria\") &\n",
    "    (base_dados[\"Tipo\"] == \"Receita\")]\n",
    "\n",
    "receita_apurada_maria = receita_apurada_maria['Valor'].sum()"
   ]
  },
  {
   "cell_type": "code",
   "execution_count": 16,
   "id": "827e1d3b",
   "metadata": {},
   "outputs": [],
   "source": [
    "for chaves, valores in dicionario_joao.items():\n",
    "    valor_para_adicionar = f'{(valores / (receita_apurada_joao + receita_apurada_maria))*100:.2f}%'\n",
    "    dict_gastos_joão.update({chaves: valor_para_adicionar})\n",
    "\n",
    "for chaves, valores in dicionario_maria.items():\n",
    "    valor_para_adicionar = f'{(valores / (receita_apurada_maria + receita_apurada_joao))*100:.2f}%'\n",
    "    dict_gastos_maria.update({chaves: valor_para_adicionar})"
   ]
  },
  {
   "cell_type": "code",
   "execution_count": 17,
   "id": "9caa6e41",
   "metadata": {},
   "outputs": [
    {
     "data": {
      "text/html": [
       "<div>\n",
       "<style scoped>\n",
       "    .dataframe tbody tr th:only-of-type {\n",
       "        vertical-align: middle;\n",
       "    }\n",
       "\n",
       "    .dataframe tbody tr th {\n",
       "        vertical-align: top;\n",
       "    }\n",
       "\n",
       "    .dataframe thead th {\n",
       "        text-align: right;\n",
       "    }\n",
       "</style>\n",
       "<table border=\"1\" class=\"dataframe\">\n",
       "  <thead>\n",
       "    <tr style=\"text-align: right;\">\n",
       "      <th></th>\n",
       "      <th>(%) João</th>\n",
       "      <th>(%) Maria</th>\n",
       "    </tr>\n",
       "  </thead>\n",
       "  <tbody>\n",
       "    <tr>\n",
       "      <th>Habitação</th>\n",
       "      <td>6.16%</td>\n",
       "      <td>3.78%</td>\n",
       "    </tr>\n",
       "    <tr>\n",
       "      <th>Despesas Financeiras</th>\n",
       "      <td>5.74%</td>\n",
       "      <td>6.58%</td>\n",
       "    </tr>\n",
       "    <tr>\n",
       "      <th>Alimentação</th>\n",
       "      <td>5.46%</td>\n",
       "      <td>1.68%</td>\n",
       "    </tr>\n",
       "    <tr>\n",
       "      <th>Transportes</th>\n",
       "      <td>4.06%</td>\n",
       "      <td>6.86%</td>\n",
       "    </tr>\n",
       "    <tr>\n",
       "      <th>Profissional</th>\n",
       "      <td>3.36%</td>\n",
       "      <td>3.50%</td>\n",
       "    </tr>\n",
       "    <tr>\n",
       "      <th>Outras Despesas</th>\n",
       "      <td>2.10%</td>\n",
       "      <td>2.52%</td>\n",
       "    </tr>\n",
       "    <tr>\n",
       "      <th>Saúde</th>\n",
       "      <td>2.10%</td>\n",
       "      <td>7.00%</td>\n",
       "    </tr>\n",
       "    <tr>\n",
       "      <th>Lazer</th>\n",
       "      <td>0.28%</td>\n",
       "      <td>2.10%</td>\n",
       "    </tr>\n",
       "  </tbody>\n",
       "</table>\n",
       "</div>"
      ],
      "text/plain": [
       "                     (%) João (%) Maria\n",
       "Habitação               6.16%     3.78%\n",
       "Despesas Financeiras    5.74%     6.58%\n",
       "Alimentação             5.46%     1.68%\n",
       "Transportes             4.06%     6.86%\n",
       "Profissional            3.36%     3.50%\n",
       "Outras Despesas         2.10%     2.52%\n",
       "Saúde                   2.10%     7.00%\n",
       "Lazer                   0.28%     2.10%"
      ]
     },
     "execution_count": 17,
     "metadata": {},
     "output_type": "execute_result"
    }
   ],
   "source": [
    "tb_joao = pd.DataFrame.from_dict(dict_gastos_joão, orient='index', columns=['(%) João'])\n",
    "tb_maria = pd.DataFrame.from_dict(dict_gastos_maria, orient='index', columns=['(%) Maria'])\n",
    "\n",
    "tb_joao['(%) Maria'] = tb_maria['(%) Maria']\n",
    "tb_joao"
   ]
  },
  {
   "cell_type": "markdown",
   "id": "7adc916b-7ef5-4050-8063-eb95971b002a",
   "metadata": {},
   "source": [
    "### Se a meta de guarda de cada um deles seja 500, em quais meses entre janeiro de 2023 a dezembro de 2024 foi cumprida?"
   ]
  },
  {
   "cell_type": "code",
   "execution_count": 19,
   "id": "fc5cf49c-bd2b-4748-9c46-a77b2daa7f1f",
   "metadata": {},
   "outputs": [],
   "source": [
    "lista_receitas_joao = []\n",
    "lista_receitas_maria = []\n",
    "lista_gastos_joao = []\n",
    "lista_gastos_maria = []\n",
    "\n",
    "# Aqui é o filtro para pegar o que eu quero\n",
    "for ano in range(2023,2025):\n",
    "    for mes in range (1,13):\n",
    "        receita_mensal = base_dados['Valor'][\n",
    "        (base_dados[\"Mês\"] == mes) & \n",
    "        (base_dados[\"Ano\"] == ano) &\n",
    "        (base_dados[\"Centro de Custo\"] == \"João\") &\n",
    "        (base_dados[\"Tipo\"] == \"Receita\")].sum()\n",
    "        lista_receitas_joao.append(receita_mensal)\n",
    "\n",
    "# Aqui é o filtro para pegar o que eu quero\n",
    "for ano in range(2023,2025):\n",
    "    for mes in range (1,13):\n",
    "        gasto_mensal = base_dados['Valor'][\n",
    "        (base_dados[\"Mês\"] == mes) & \n",
    "        (base_dados[\"Ano\"] == ano) &\n",
    "        (base_dados[\"Centro de Custo\"] == \"Maria\") &\n",
    "        (base_dados[\"Tipo\"] == \"Receita\")].sum()\n",
    "        lista_receitas_maria.append(gasto_mensal)\n",
    "\n",
    "for ano in range(2023,2025):\n",
    "    for mes in range (1,13):\n",
    "        receita_mensal = base_dados['Valor'][\n",
    "        (base_dados[\"Mês\"] == mes) & \n",
    "        (base_dados[\"Ano\"] == ano) &\n",
    "        (base_dados[\"Centro de Custo\"] == \"João\") &\n",
    "        (base_dados[\"Tipo\"] == \"Despesa\")].sum()\n",
    "        lista_gastos_joao.append(receita_mensal)\n",
    "\n",
    "for ano in range(2023,2025):\n",
    "    for mes in range (1,13):\n",
    "        gasto_mensal = base_dados['Valor'][\n",
    "        (base_dados[\"Mês\"] == mes) & \n",
    "        (base_dados[\"Ano\"] == ano) &\n",
    "        (base_dados[\"Centro de Custo\"] == \"Maria\") &\n",
    "        (base_dados[\"Tipo\"] == \"Despesa\")].sum()\n",
    "        lista_gastos_maria.append(gasto_mensal)"
   ]
  },
  {
   "cell_type": "code",
   "execution_count": 73,
   "id": "8027c218",
   "metadata": {},
   "outputs": [],
   "source": [
    "saldos_joao = []\n",
    "saldos_maria = []\n",
    "meses = len(lista_gastos_joao)\n",
    "\n",
    "for mes in range(0, meses):\n",
    "    saldo_joao = lista_receitas_joao[mes] - lista_gastos_joao[mes]\n",
    "    saldo_maria = lista_receitas_maria[mes] - lista_gastos_maria[mes]\n",
    "    saldos_joao.append(saldo_joao)\n",
    "    saldos_maria.append(saldo_maria)"
   ]
  },
  {
   "cell_type": "code",
   "execution_count": 62,
   "id": "9107019f",
   "metadata": {},
   "outputs": [
    {
     "name": "stdout",
     "output_type": "stream",
     "text": [
      "9/2023 - R$ 478.50\n",
      "9/2024 - R$ 478.50\n"
     ]
    }
   ],
   "source": [
    "# Finalmente, responder as perguntas para o caso do João:\n",
    "periodo = []\n",
    "\n",
    "for ano in range(2023, 2025):\n",
    "    for mes in range(1,13):\n",
    "        periodo.append(f'{mes}/{ano}')\n",
    "\n",
    "for i, mes in enumerate(periodo):\n",
    "    if saldos_joao[i] < 500:\n",
    "        print(f'{mes} - R$ {saldos_joao[i]:.2f}')\n"
   ]
  },
  {
   "cell_type": "code",
   "execution_count": 74,
   "id": "488e0392",
   "metadata": {},
   "outputs": [
    {
     "name": "stdout",
     "output_type": "stream",
     "text": [
      "2/2023 - R$ 102.00\n",
      "3/2023 - R$ 417.00\n",
      "5/2023 - R$ 438.00\n",
      "8/2023 - R$ -507.00\n",
      "10/2023 - R$ 427.50\n",
      "12/2023 - R$ 280.50\n",
      "2/2024 - R$ 102.00\n",
      "3/2024 - R$ 417.00\n",
      "5/2024 - R$ 438.00\n",
      "8/2024 - R$ -507.00\n",
      "10/2024 - R$ 427.50\n",
      "12/2024 - R$ 280.50\n"
     ]
    }
   ],
   "source": [
    "# Finalmente, responder as perguntas para o caso do Maria:\n",
    "periodo_maria = []\n",
    "\n",
    "for ano in range(2023, 2025):\n",
    "    for mes in range(1,13):\n",
    "        periodo_maria.append(f'{mes}/{ano}')\n",
    "\n",
    "for i, mes in enumerate(periodo_maria):\n",
    "    if saldos_maria[i] < 500:\n",
    "        print(f'{mes} - R$ {saldos_maria[i]:.2f}')\n"
   ]
  }
 ],
 "metadata": {
  "kernelspec": {
   "display_name": "Python 3 (ipykernel)",
   "language": "python",
   "name": "python3"
  },
  "language_info": {
   "codemirror_mode": {
    "name": "ipython",
    "version": 3
   },
   "file_extension": ".py",
   "mimetype": "text/x-python",
   "name": "python",
   "nbconvert_exporter": "python",
   "pygments_lexer": "ipython3",
   "version": "3.12.1"
  }
 },
 "nbformat": 4,
 "nbformat_minor": 5
}
