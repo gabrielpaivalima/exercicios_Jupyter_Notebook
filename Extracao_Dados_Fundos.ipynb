{
 "cells": [
  {
   "cell_type": "code",
   "execution_count": 42,
   "metadata": {},
   "outputs": [],
   "source": [
    "import pandas as pd\n",
    "import requests\n",
    "import zipfile"
   ]
  },
  {
   "cell_type": "code",
   "execution_count": 43,
   "metadata": {},
   "outputs": [],
   "source": [
    "periodo = ['202304','202305','202306','202307','202308','202309','202310','202311','202312','202401','202402','202403']\n",
    "url_base = \"https://dados.cvm.gov.br/dados/FI/DOC/INF_DIARIO/DADOS/inf_diario_fi_{}.zip\"\n",
    "\n",
    "base_diaria_fundos = pd.DataFrame({\"CNPJ_FUNDO\": [], \"DT_COMPTC\": [], \"VL_QUOTA\": []})"
   ]
  },
  {
   "cell_type": "code",
   "execution_count": 44,
   "metadata": {},
   "outputs": [
    {
     "name": "stdout",
     "output_type": "stream",
     "text": [
      "<Response [200]>\n",
      "<Response [200]>\n",
      "<Response [200]>\n",
      "<Response [200]>\n",
      "<Response [200]>\n",
      "<Response [200]>\n",
      "<Response [200]>\n",
      "<Response [200]>\n",
      "<Response [200]>\n",
      "<Response [200]>\n",
      "<Response [200]>\n",
      "<Response [200]>\n"
     ]
    }
   ],
   "source": [
    "for mes in periodo:\n",
    "    # realizar a requisição na URL formatada acima\n",
    "    requisicao_arquivo = requests.get(url_base.format(mes))\n",
    "    print(requisicao_arquivo)\n",
    "    \n",
    "    with open (f\"inf_diario_fi_{mes}.zip\", \"wb\") as arquivo_zipado:\n",
    "        arquivo_zipado.write(requisicao_arquivo.content)\n",
    "    \n",
    "    arquivo_zip = zipfile.ZipFile(f\"inf_diario_fi_{mes}.zip\")\n",
    "\n",
    "    # Será aberto o arquivo zip para ter acesso ao CSV dentro dele:\n",
    "    arquivo_nao_zipado = arquivo_zip.open(arquivo_zip.namelist()[0])\n",
    "    \n",
    "    # Será criada uma variavel contendo a base de dados\n",
    "    base_dados = pd.read_csv(arquivo_nao_zipado, sep = \";\", encoding= 'ISO-8859-1')\n",
    "\n",
    "    # Essa base de dados será extraída as colunas que se quer trabalhar apenas e concatenada com a principal\n",
    "    base_diaria_fundos = pd.concat([base_diaria_fundos, base_dados[[\"CNPJ_FUNDO\",\"DT_COMPTC\",\"VL_QUOTA\"]]])"
   ]
  },
  {
   "cell_type": "code",
   "execution_count": 48,
   "metadata": {},
   "outputs": [
    {
     "data": {
      "text/html": [
       "<div>\n",
       "<style scoped>\n",
       "    .dataframe tbody tr th:only-of-type {\n",
       "        vertical-align: middle;\n",
       "    }\n",
       "\n",
       "    .dataframe tbody tr th {\n",
       "        vertical-align: top;\n",
       "    }\n",
       "\n",
       "    .dataframe thead th {\n",
       "        text-align: right;\n",
       "    }\n",
       "</style>\n",
       "<table border=\"1\" class=\"dataframe\">\n",
       "  <thead>\n",
       "    <tr style=\"text-align: right;\">\n",
       "      <th></th>\n",
       "      <th>CNPJ_FUNDO</th>\n",
       "      <th>DT_COMPTC</th>\n",
       "      <th>VL_QUOTA</th>\n",
       "    </tr>\n",
       "  </thead>\n",
       "  <tbody>\n",
       "    <tr>\n",
       "      <th>0</th>\n",
       "      <td>00.017.024/0001-53</td>\n",
       "      <td>2023-04-03</td>\n",
       "      <td>31.844299</td>\n",
       "    </tr>\n",
       "    <tr>\n",
       "      <th>1</th>\n",
       "      <td>00.017.024/0001-53</td>\n",
       "      <td>2023-04-04</td>\n",
       "      <td>31.857391</td>\n",
       "    </tr>\n",
       "    <tr>\n",
       "      <th>2</th>\n",
       "      <td>00.017.024/0001-53</td>\n",
       "      <td>2023-04-05</td>\n",
       "      <td>31.870794</td>\n",
       "    </tr>\n",
       "    <tr>\n",
       "      <th>3</th>\n",
       "      <td>00.017.024/0001-53</td>\n",
       "      <td>2023-04-06</td>\n",
       "      <td>31.884606</td>\n",
       "    </tr>\n",
       "    <tr>\n",
       "      <th>4</th>\n",
       "      <td>00.017.024/0001-53</td>\n",
       "      <td>2023-04-10</td>\n",
       "      <td>31.898214</td>\n",
       "    </tr>\n",
       "    <tr>\n",
       "      <th>...</th>\n",
       "      <td>...</td>\n",
       "      <td>...</td>\n",
       "      <td>...</td>\n",
       "    </tr>\n",
       "    <tr>\n",
       "      <th>516915</th>\n",
       "      <td>97.929.213/0001-34</td>\n",
       "      <td>2024-03-22</td>\n",
       "      <td>11.846756</td>\n",
       "    </tr>\n",
       "    <tr>\n",
       "      <th>516916</th>\n",
       "      <td>97.929.213/0001-34</td>\n",
       "      <td>2024-03-25</td>\n",
       "      <td>11.854106</td>\n",
       "    </tr>\n",
       "    <tr>\n",
       "      <th>516917</th>\n",
       "      <td>97.929.213/0001-34</td>\n",
       "      <td>2024-03-26</td>\n",
       "      <td>11.850093</td>\n",
       "    </tr>\n",
       "    <tr>\n",
       "      <th>516918</th>\n",
       "      <td>97.929.213/0001-34</td>\n",
       "      <td>2024-03-27</td>\n",
       "      <td>11.860406</td>\n",
       "    </tr>\n",
       "    <tr>\n",
       "      <th>516919</th>\n",
       "      <td>97.929.213/0001-34</td>\n",
       "      <td>2024-03-28</td>\n",
       "      <td>11.869528</td>\n",
       "    </tr>\n",
       "  </tbody>\n",
       "</table>\n",
       "<p>6270894 rows × 3 columns</p>\n",
       "</div>"
      ],
      "text/plain": [
       "                CNPJ_FUNDO   DT_COMPTC   VL_QUOTA\n",
       "0       00.017.024/0001-53  2023-04-03  31.844299\n",
       "1       00.017.024/0001-53  2023-04-04  31.857391\n",
       "2       00.017.024/0001-53  2023-04-05  31.870794\n",
       "3       00.017.024/0001-53  2023-04-06  31.884606\n",
       "4       00.017.024/0001-53  2023-04-10  31.898214\n",
       "...                    ...         ...        ...\n",
       "516915  97.929.213/0001-34  2024-03-22  11.846756\n",
       "516916  97.929.213/0001-34  2024-03-25  11.854106\n",
       "516917  97.929.213/0001-34  2024-03-26  11.850093\n",
       "516918  97.929.213/0001-34  2024-03-27  11.860406\n",
       "516919  97.929.213/0001-34  2024-03-28  11.869528\n",
       "\n",
       "[6270894 rows x 3 columns]"
      ]
     },
     "execution_count": 48,
     "metadata": {},
     "output_type": "execute_result"
    }
   ],
   "source": [
    "base_diaria_fundos"
   ]
  }
 ],
 "metadata": {
  "kernelspec": {
   "display_name": "Python 3",
   "language": "python",
   "name": "python3"
  },
  "language_info": {
   "codemirror_mode": {
    "name": "ipython",
    "version": 3
   },
   "file_extension": ".py",
   "mimetype": "text/x-python",
   "name": "python",
   "nbconvert_exporter": "python",
   "pygments_lexer": "ipython3",
   "version": "3.12.1"
  }
 },
 "nbformat": 4,
 "nbformat_minor": 2
}
